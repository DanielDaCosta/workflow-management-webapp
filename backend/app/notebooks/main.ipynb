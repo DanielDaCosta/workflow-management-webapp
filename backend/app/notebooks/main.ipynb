{
 "cells": [
  {
   "cell_type": "code",
   "execution_count": 41,
   "metadata": {},
   "outputs": [],
   "source": [
    "import bs4\n",
    "from langchain import hub\n",
    "from langchain_chroma import Chroma\n",
    "from langchain_community.document_loaders import WebBaseLoader\n",
    "from langchain_core.output_parsers import StrOutputParser\n",
    "from langchain_core.runnables import RunnablePassthrough, RunnableParallel\n",
    "from langchain_openai import OpenAIEmbeddings\n",
    "from langchain_text_splitters import RecursiveCharacterTextSplitter\n",
    "from dotenv import load_dotenv\n",
    "import os\n",
    "import getpass"
   ]
  },
  {
   "cell_type": "code",
   "execution_count": 15,
   "metadata": {},
   "outputs": [],
   "source": [
    "if not os.environ.get(\"OPENAI_API_KEY\"):\n",
    "    os.environ[\"OPENAI_API_KEY\"] = getpass.getpass(\"Enter your OpenAI API key: \")"
   ]
  },
  {
   "cell_type": "code",
   "execution_count": 18,
   "metadata": {},
   "outputs": [],
   "source": [
    "# Load, chunk and index the contents of the blog.\n",
    "loader = WebBaseLoader(\n",
    "    web_paths=(\"https://en.wikipedia.org/wiki/Y_Combinator\",),\n",
    "    bs_kwargs=dict(\n",
    "        parse_only=bs4.SoupStrainer()\n",
    "    ),\n",
    ")\n",
    "docs = loader.load()"
   ]
  },
  {
   "cell_type": "code",
   "execution_count": 20,
   "metadata": {},
   "outputs": [],
   "source": [
    "text_splitter = RecursiveCharacterTextSplitter(chunk_size=1000, chunk_overlap=200)\n",
    "splits = text_splitter.split_documents(docs)\n",
    "vectorstore = Chroma.from_documents(documents=splits, embedding=OpenAIEmbeddings())"
   ]
  },
  {
   "cell_type": "code",
   "execution_count": 25,
   "metadata": {},
   "outputs": [],
   "source": [
    "from langchain_openai import ChatOpenAI"
   ]
  },
  {
   "cell_type": "code",
   "execution_count": 26,
   "metadata": {},
   "outputs": [],
   "source": [
    "llm = ChatOpenAI(model=\"gpt-4o-mini\")"
   ]
  },
  {
   "cell_type": "code",
   "execution_count": 21,
   "metadata": {},
   "outputs": [],
   "source": [
    "def format_docs(docs):\n",
    "    return \"\\n\\n\".join(doc.page_content for doc in docs)"
   ]
  },
  {
   "cell_type": "code",
   "execution_count": 22,
   "metadata": {},
   "outputs": [],
   "source": [
    "prompt = \"What is Y Combinator?\""
   ]
  },
  {
   "cell_type": "code",
   "execution_count": 30,
   "metadata": {},
   "outputs": [],
   "source": [
    "retriever = vectorstore.as_retriever()"
   ]
  },
  {
   "cell_type": "code",
   "execution_count": 62,
   "metadata": {},
   "outputs": [],
   "source": [
    "from langchain.prompts import PromptTemplate"
   ]
  },
  {
   "cell_type": "code",
   "execution_count": 64,
   "metadata": {},
   "outputs": [],
   "source": [
    "prompt = PromptTemplate.from_template(\n",
    "    \"\"\"\n",
    "    Use the following pieces of context to answer the question at the end. If you \n",
    "    don't know the answer, just say that you don't know, don't try to make up an \n",
    "    answer.\n",
    "\n",
    "    {context}\n",
    "\n",
    "    Question: {question}\n",
    "    Answer:\n",
    "    \"\"\"\n",
    ")"
   ]
  },
  {
   "cell_type": "code",
   "execution_count": 65,
   "metadata": {},
   "outputs": [],
   "source": [
    "rag_chain = (\n",
    "    RunnableParallel({\"context\": retriever | format_docs, \"question\": RunnablePassthrough()})\n",
    "    | prompt\n",
    "    | llm\n",
    "    | StrOutputParser()\n",
    ")"
   ]
  },
  {
   "cell_type": "code",
   "execution_count": 68,
   "metadata": {},
   "outputs": [
    {
     "name": "stdout",
     "output_type": "stream",
     "text": [
      "- Pension funds\n",
      "- Insurance companies\n",
      "- Fund of funds\n",
      "- Endowments\n",
      "- Foundations\n",
      "- Investment banks\n",
      "- Merchant banks\n",
      "- Commercial banks\n",
      "- High-net-worth individuals\n",
      "- Family offices\n",
      "- Sovereign wealth funds\n",
      "- Crowdfunding\n",
      "- Related financial terms (AUM, Cap table, Capital call, Capital commitment, Capital structure, Distribution waterfall, EBITDA, Envy ratio, High-yield debt, IPO, IRR, Leverage, Liquidation preference, M&A, PME, Taxation of private equity and hedge funds, Undercapitalization, Vintage year)\n",
      "- Startups and companies from Y Combinator (e.g., Pebble, Coinbase, DoorDash, GitLab, etc.)\n",
      "- Timeline of Y Combinator companies by year (2012, 2013, 2014–2015, 2016–2018, 2019–2020, 2021–2022)\n"
     ]
    }
   ],
   "source": [
    "print(rag_chain.invoke(\"Key Topics, return in bullet points\"))"
   ]
  },
  {
   "cell_type": "code",
   "execution_count": 71,
   "metadata": {},
   "outputs": [],
   "source": [
    "import os\n",
    "import bs4\n",
    "from dotenv import load_dotenv\n",
    "from langchain.prompts import PromptTemplate\n",
    "from langchain_chroma import Chroma\n",
    "from langchain_community.document_loaders import WebBaseLoader\n",
    "from langchain_core.output_parsers import StrOutputParser\n",
    "from langchain_core.runnables import RunnablePassthrough, RunnableParallel\n",
    "from langchain_openai import OpenAIEmbeddings\n",
    "from langchain_text_splitters import RecursiveCharacterTextSplitter\n",
    "\n",
    "load_dotenv()\n",
    "\n",
    "class RAGPipeline:\n",
    "    def __init__(self, web_path, model_name=\"gpt-4o-mini\", chunk_size=1000, chunk_overlap=200):\n",
    "        self.web_path = web_path\n",
    "        self.model_name = model_name\n",
    "        self.chunk_size = chunk_size\n",
    "        self.chunk_overlap = chunk_overlap\n",
    "        self.vectorstore = None\n",
    "        self.llm = None\n",
    "        self.retriever = None\n",
    "        self.prompt = None\n",
    "        self.rag_chain = None\n",
    "\n",
    "        # Initialize LLM\n",
    "        self.llm = self.initialize_llm()\n",
    "        \n",
    "        # Load, chunk, and index documents\n",
    "        self.load_and_index_documents()\n",
    "        \n",
    "        # Setup prompt template\n",
    "        self.setup_prompt_template()\n",
    "        \n",
    "        # Build the RAG chain\n",
    "        self.build_rag_chain()\n",
    "\n",
    "    def initialize_llm(self):\n",
    "        # Initialize the LLM (Language Model)\n",
    "        return ChatOpenAI(model=self.model_name)\n",
    "\n",
    "    def load_and_index_documents(self):\n",
    "        # Load documents from the web\n",
    "        loader = WebBaseLoader(\n",
    "            web_paths=(self.web_path,),\n",
    "            bs_kwargs=dict(\n",
    "                parse_only=bs4.SoupStrainer()\n",
    "            ),\n",
    "        )\n",
    "        docs = loader.load()\n",
    "\n",
    "        # Split the documents into chunks\n",
    "        text_splitter = RecursiveCharacterTextSplitter(chunk_size=self.chunk_size, chunk_overlap=self.chunk_overlap)\n",
    "        splits = text_splitter.split_documents(docs)\n",
    "\n",
    "        # Create vectorstore from the document chunks\n",
    "        self.vectorstore = Chroma.from_documents(documents=splits, embedding=OpenAIEmbeddings())\n",
    "\n",
    "        # Set up the retriever\n",
    "        self.retriever = self.vectorstore.as_retriever()\n",
    "\n",
    "    def setup_prompt_template(self):\n",
    "        # Define the prompt template\n",
    "        self.prompt = PromptTemplate.from_template(\n",
    "            \"\"\"\n",
    "            Use the following pieces of context to answer the question at the end. If you \n",
    "            don't know the answer, just say that you don't know, don't try to make up an \n",
    "            answer.\n",
    "\n",
    "            {context}\n",
    "\n",
    "            Question: {question}\n",
    "            Answer:\n",
    "            \"\"\"\n",
    "        )\n",
    "\n",
    "    def format_docs(self, docs):\n",
    "        # Format documents for use in the prompt\n",
    "        return \"\\n\\n\".join(doc.page_content for doc in docs)\n",
    "\n",
    "    def build_rag_chain(self):\n",
    "        # Build RAG chain\n",
    "        self.rag_chain = (\n",
    "            RunnableParallel({\"context\": self.retriever | self.format_docs, \"question\": RunnablePassthrough()})\n",
    "            | self.prompt\n",
    "            | self.llm\n",
    "            | StrOutputParser()\n",
    "        )\n",
    "\n",
    "    def run(self, question):\n",
    "        # Invoke the RAG chain with a question\n",
    "        return self.rag_chain.invoke(question)"
   ]
  },
  {
   "cell_type": "code",
   "execution_count": 72,
   "metadata": {},
   "outputs": [
    {
     "name": "stdout",
     "output_type": "stream",
     "text": [
      "- Pension funds\n",
      "- Insurance companies\n",
      "- Fund of funds\n",
      "- Endowments\n",
      "- Foundations\n",
      "- Investment banks\n",
      "- Merchant banks\n",
      "- Commercial banks\n",
      "- High-net-worth individuals\n",
      "- Family offices\n",
      "- Sovereign wealth funds\n",
      "- Crowdfunding\n",
      "- Related financial terms (AUM, cap table, capital call, capital commitment, capital structure, distribution waterfall, EBITDA, envy ratio, high-yield debt, IPO, IRR, leverage, liquidation preference, M&A, PME, taxation of private equity and hedge funds, undercapitalization, vintage year)\n",
      "- Startups and tech companies (e.g., Pebble, Coinbase, DoorDash, GitLab, etc.)\n",
      "- Timeline of company founding years (2012, 2013, 2014-2015, 2016-2018, 2019-2020, 2021-2022) \n",
      "- Notable platforms and services (e.g., Hacker News, MiraclePlus)\n"
     ]
    }
   ],
   "source": [
    "# Example usage:\n",
    "pipeline = RAGPipeline(web_path=\"https://en.wikipedia.org/wiki/Y_Combinator\")\n",
    "result = pipeline.run(\"Key Topics, return in bullet points\")\n",
    "print(result)"
   ]
  },
  {
   "cell_type": "code",
   "execution_count": null,
   "metadata": {},
   "outputs": [],
   "source": []
  }
 ],
 "metadata": {
  "kernelspec": {
   "display_name": "work",
   "language": "python",
   "name": "python3"
  },
  "language_info": {
   "codemirror_mode": {
    "name": "ipython",
    "version": 3
   },
   "file_extension": ".py",
   "mimetype": "text/x-python",
   "name": "python",
   "nbconvert_exporter": "python",
   "pygments_lexer": "ipython3",
   "version": "3.10.11"
  }
 },
 "nbformat": 4,
 "nbformat_minor": 2
}
